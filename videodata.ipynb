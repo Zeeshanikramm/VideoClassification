{
  "nbformat": 4,
  "nbformat_minor": 0,
  "metadata": {
    "colab": {
      "name": "videodata.ipynb",
      "provenance": [],
      "collapsed_sections": [],
      "include_colab_link": true
    },
    "kernelspec": {
      "name": "python3",
      "display_name": "Python 3"
    },
    "accelerator": "GPU",
    "widgets": {
      "application/vnd.jupyter.widget-state+json": {
        "708cc9f0f128447787557b7f390e40fa": {
          "model_module": "@jupyter-widgets/controls",
          "model_name": "HBoxModel",
          "model_module_version": "1.5.0",
          "state": {
            "_view_name": "HBoxView",
            "_dom_classes": [],
            "_model_name": "HBoxModel",
            "_view_module": "@jupyter-widgets/controls",
            "_model_module_version": "1.5.0",
            "_view_count": null,
            "_view_module_version": "1.5.0",
            "box_style": "",
            "layout": "IPY_MODEL_557ce95bcf0f4f0d845adfe3d46be951",
            "_model_module": "@jupyter-widgets/controls",
            "children": [
              "IPY_MODEL_3370ae2c82c74e379a5d6e8a54648af5",
              "IPY_MODEL_bcfdc4fd7c54464d849294e583c31d9b",
              "IPY_MODEL_a66cd4327f3442d8b8a37dfa20c4a543"
            ]
          }
        },
        "557ce95bcf0f4f0d845adfe3d46be951": {
          "model_module": "@jupyter-widgets/base",
          "model_name": "LayoutModel",
          "model_module_version": "1.2.0",
          "state": {
            "_view_name": "LayoutView",
            "grid_template_rows": null,
            "right": null,
            "justify_content": null,
            "_view_module": "@jupyter-widgets/base",
            "overflow": null,
            "_model_module_version": "1.2.0",
            "_view_count": null,
            "flex_flow": null,
            "width": null,
            "min_width": null,
            "border": null,
            "align_items": null,
            "bottom": null,
            "_model_module": "@jupyter-widgets/base",
            "top": null,
            "grid_column": null,
            "overflow_y": null,
            "overflow_x": null,
            "grid_auto_flow": null,
            "grid_area": null,
            "grid_template_columns": null,
            "flex": null,
            "_model_name": "LayoutModel",
            "justify_items": null,
            "grid_row": null,
            "max_height": null,
            "align_content": null,
            "visibility": null,
            "align_self": null,
            "height": null,
            "min_height": null,
            "padding": null,
            "grid_auto_rows": null,
            "grid_gap": null,
            "max_width": null,
            "order": null,
            "_view_module_version": "1.2.0",
            "grid_template_areas": null,
            "object_position": null,
            "object_fit": null,
            "grid_auto_columns": null,
            "margin": null,
            "display": null,
            "left": null
          }
        },
        "3370ae2c82c74e379a5d6e8a54648af5": {
          "model_module": "@jupyter-widgets/controls",
          "model_name": "HTMLModel",
          "model_module_version": "1.5.0",
          "state": {
            "_view_name": "HTMLView",
            "style": "IPY_MODEL_bef08e404708480eb42a3cfd949bbb79",
            "_dom_classes": [],
            "description": "",
            "_model_name": "HTMLModel",
            "placeholder": "​",
            "_view_module": "@jupyter-widgets/controls",
            "_model_module_version": "1.5.0",
            "value": "100%",
            "_view_count": null,
            "_view_module_version": "1.5.0",
            "description_tooltip": null,
            "_model_module": "@jupyter-widgets/controls",
            "layout": "IPY_MODEL_fdd12c3c77474fec91ba143ddd26c230"
          }
        },
        "bcfdc4fd7c54464d849294e583c31d9b": {
          "model_module": "@jupyter-widgets/controls",
          "model_name": "FloatProgressModel",
          "model_module_version": "1.5.0",
          "state": {
            "_view_name": "ProgressView",
            "style": "IPY_MODEL_53a6bb033e1a4c68ac1e95842596e7cb",
            "_dom_classes": [],
            "description": "",
            "_model_name": "FloatProgressModel",
            "bar_style": "success",
            "max": 3,
            "_view_module": "@jupyter-widgets/controls",
            "_model_module_version": "1.5.0",
            "value": 3,
            "_view_count": null,
            "_view_module_version": "1.5.0",
            "orientation": "horizontal",
            "min": 0,
            "description_tooltip": null,
            "_model_module": "@jupyter-widgets/controls",
            "layout": "IPY_MODEL_013f65e7050d4b88a2f6c4f2dfa40b32"
          }
        },
        "a66cd4327f3442d8b8a37dfa20c4a543": {
          "model_module": "@jupyter-widgets/controls",
          "model_name": "HTMLModel",
          "model_module_version": "1.5.0",
          "state": {
            "_view_name": "HTMLView",
            "style": "IPY_MODEL_13d52d3d9de64c6fa1cc35e9639b0241",
            "_dom_classes": [],
            "description": "",
            "_model_name": "HTMLModel",
            "placeholder": "​",
            "_view_module": "@jupyter-widgets/controls",
            "_model_module_version": "1.5.0",
            "value": " 3/3 [20:49&lt;00:00, 490.57s/it]",
            "_view_count": null,
            "_view_module_version": "1.5.0",
            "description_tooltip": null,
            "_model_module": "@jupyter-widgets/controls",
            "layout": "IPY_MODEL_80000a84870d4760a3aeb4a2762ee1da"
          }
        },
        "bef08e404708480eb42a3cfd949bbb79": {
          "model_module": "@jupyter-widgets/controls",
          "model_name": "DescriptionStyleModel",
          "model_module_version": "1.5.0",
          "state": {
            "_view_name": "StyleView",
            "_model_name": "DescriptionStyleModel",
            "description_width": "",
            "_view_module": "@jupyter-widgets/base",
            "_model_module_version": "1.5.0",
            "_view_count": null,
            "_view_module_version": "1.2.0",
            "_model_module": "@jupyter-widgets/controls"
          }
        },
        "fdd12c3c77474fec91ba143ddd26c230": {
          "model_module": "@jupyter-widgets/base",
          "model_name": "LayoutModel",
          "model_module_version": "1.2.0",
          "state": {
            "_view_name": "LayoutView",
            "grid_template_rows": null,
            "right": null,
            "justify_content": null,
            "_view_module": "@jupyter-widgets/base",
            "overflow": null,
            "_model_module_version": "1.2.0",
            "_view_count": null,
            "flex_flow": null,
            "width": null,
            "min_width": null,
            "border": null,
            "align_items": null,
            "bottom": null,
            "_model_module": "@jupyter-widgets/base",
            "top": null,
            "grid_column": null,
            "overflow_y": null,
            "overflow_x": null,
            "grid_auto_flow": null,
            "grid_area": null,
            "grid_template_columns": null,
            "flex": null,
            "_model_name": "LayoutModel",
            "justify_items": null,
            "grid_row": null,
            "max_height": null,
            "align_content": null,
            "visibility": null,
            "align_self": null,
            "height": null,
            "min_height": null,
            "padding": null,
            "grid_auto_rows": null,
            "grid_gap": null,
            "max_width": null,
            "order": null,
            "_view_module_version": "1.2.0",
            "grid_template_areas": null,
            "object_position": null,
            "object_fit": null,
            "grid_auto_columns": null,
            "margin": null,
            "display": null,
            "left": null
          }
        },
        "53a6bb033e1a4c68ac1e95842596e7cb": {
          "model_module": "@jupyter-widgets/controls",
          "model_name": "ProgressStyleModel",
          "model_module_version": "1.5.0",
          "state": {
            "_view_name": "StyleView",
            "_model_name": "ProgressStyleModel",
            "description_width": "",
            "_view_module": "@jupyter-widgets/base",
            "_model_module_version": "1.5.0",
            "_view_count": null,
            "_view_module_version": "1.2.0",
            "bar_color": null,
            "_model_module": "@jupyter-widgets/controls"
          }
        },
        "013f65e7050d4b88a2f6c4f2dfa40b32": {
          "model_module": "@jupyter-widgets/base",
          "model_name": "LayoutModel",
          "model_module_version": "1.2.0",
          "state": {
            "_view_name": "LayoutView",
            "grid_template_rows": null,
            "right": null,
            "justify_content": null,
            "_view_module": "@jupyter-widgets/base",
            "overflow": null,
            "_model_module_version": "1.2.0",
            "_view_count": null,
            "flex_flow": null,
            "width": null,
            "min_width": null,
            "border": null,
            "align_items": null,
            "bottom": null,
            "_model_module": "@jupyter-widgets/base",
            "top": null,
            "grid_column": null,
            "overflow_y": null,
            "overflow_x": null,
            "grid_auto_flow": null,
            "grid_area": null,
            "grid_template_columns": null,
            "flex": null,
            "_model_name": "LayoutModel",
            "justify_items": null,
            "grid_row": null,
            "max_height": null,
            "align_content": null,
            "visibility": null,
            "align_self": null,
            "height": null,
            "min_height": null,
            "padding": null,
            "grid_auto_rows": null,
            "grid_gap": null,
            "max_width": null,
            "order": null,
            "_view_module_version": "1.2.0",
            "grid_template_areas": null,
            "object_position": null,
            "object_fit": null,
            "grid_auto_columns": null,
            "margin": null,
            "display": null,
            "left": null
          }
        },
        "13d52d3d9de64c6fa1cc35e9639b0241": {
          "model_module": "@jupyter-widgets/controls",
          "model_name": "DescriptionStyleModel",
          "model_module_version": "1.5.0",
          "state": {
            "_view_name": "StyleView",
            "_model_name": "DescriptionStyleModel",
            "description_width": "",
            "_view_module": "@jupyter-widgets/base",
            "_model_module_version": "1.5.0",
            "_view_count": null,
            "_view_module_version": "1.2.0",
            "_model_module": "@jupyter-widgets/controls"
          }
        },
        "80000a84870d4760a3aeb4a2762ee1da": {
          "model_module": "@jupyter-widgets/base",
          "model_name": "LayoutModel",
          "model_module_version": "1.2.0",
          "state": {
            "_view_name": "LayoutView",
            "grid_template_rows": null,
            "right": null,
            "justify_content": null,
            "_view_module": "@jupyter-widgets/base",
            "overflow": null,
            "_model_module_version": "1.2.0",
            "_view_count": null,
            "flex_flow": null,
            "width": null,
            "min_width": null,
            "border": null,
            "align_items": null,
            "bottom": null,
            "_model_module": "@jupyter-widgets/base",
            "top": null,
            "grid_column": null,
            "overflow_y": null,
            "overflow_x": null,
            "grid_auto_flow": null,
            "grid_area": null,
            "grid_template_columns": null,
            "flex": null,
            "_model_name": "LayoutModel",
            "justify_items": null,
            "grid_row": null,
            "max_height": null,
            "align_content": null,
            "visibility": null,
            "align_self": null,
            "height": null,
            "min_height": null,
            "padding": null,
            "grid_auto_rows": null,
            "grid_gap": null,
            "max_width": null,
            "order": null,
            "_view_module_version": "1.2.0",
            "grid_template_areas": null,
            "object_position": null,
            "object_fit": null,
            "grid_auto_columns": null,
            "margin": null,
            "display": null,
            "left": null
          }
        }
      }
    }
  },
  "cells": [
    {
      "cell_type": "markdown",
      "metadata": {
        "id": "view-in-github",
        "colab_type": "text"
      },
      "source": [
        "<a href=\"https://colab.research.google.com/github/Zeeshanikramm/VideoClassification/blob/main/videodata.ipynb\" target=\"_parent\"><img src=\"https://colab.research.google.com/assets/colab-badge.svg\" alt=\"Open In Colab\"/></a>"
      ]
    },
    {
      "cell_type": "code",
      "metadata": {
        "id": "dxHT3jBOLqLX",
        "colab": {
          "base_uri": "https://localhost:8080/"
        },
        "outputId": "bd0a2ed2-c925-4f7f-8f44-74f5c0e5522a"
      },
      "source": [
        "!sudo apt-get install -y python-dev pkg-config\n",
        "!sudo apt-get install -y \\\n",
        "    libavformat-dev libavcodec-dev libavdevice-dev \\\n",
        "    libavutil-dev libswscale-dev libswresample-dev libavfilter-dev\n",
        "!pip install av\n",
        "\n",
        "import av\n",
        "import glob\n",
        "import os\n",
        "import time\n",
        "import tqdm\n",
        "import datetime\n",
        "import argparse"
      ],
      "execution_count": null,
      "outputs": [
        {
          "output_type": "stream",
          "name": "stdout",
          "text": [
            "Reading package lists... Done\n",
            "Building dependency tree       \n",
            "Reading state information... Done\n",
            "pkg-config is already the newest version (0.29.1-0ubuntu2).\n",
            "python-dev is already the newest version (2.7.15~rc1-1).\n",
            "0 upgraded, 0 newly installed, 0 to remove and 39 not upgraded.\n",
            "Reading package lists... Done\n",
            "Building dependency tree       \n",
            "Reading state information... Done\n",
            "libavcodec-dev is already the newest version (7:3.4.8-0ubuntu0.2).\n",
            "libavcodec-dev set to manually installed.\n",
            "libavformat-dev is already the newest version (7:3.4.8-0ubuntu0.2).\n",
            "libavformat-dev set to manually installed.\n",
            "libavutil-dev is already the newest version (7:3.4.8-0ubuntu0.2).\n",
            "libavutil-dev set to manually installed.\n",
            "libswresample-dev is already the newest version (7:3.4.8-0ubuntu0.2).\n",
            "libswresample-dev set to manually installed.\n",
            "libswscale-dev is already the newest version (7:3.4.8-0ubuntu0.2).\n",
            "libswscale-dev set to manually installed.\n",
            "The following additional packages will be installed:\n",
            "  libpostproc-dev\n",
            "The following NEW packages will be installed:\n",
            "  libavdevice-dev libavfilter-dev libpostproc-dev\n",
            "0 upgraded, 3 newly installed, 0 to remove and 39 not upgraded.\n",
            "Need to get 1,154 kB of archives.\n",
            "After this operation, 5,444 kB of additional disk space will be used.\n",
            "Get:1 http://archive.ubuntu.com/ubuntu bionic-updates/universe amd64 libpostproc-dev amd64 7:3.4.8-0ubuntu0.2 [51.0 kB]\n",
            "Get:2 http://archive.ubuntu.com/ubuntu bionic-updates/universe amd64 libavfilter-dev amd64 7:3.4.8-0ubuntu0.2 [1,016 kB]\n",
            "Get:3 http://archive.ubuntu.com/ubuntu bionic-updates/universe amd64 libavdevice-dev amd64 7:3.4.8-0ubuntu0.2 [87.2 kB]\n",
            "Fetched 1,154 kB in 1s (1,103 kB/s)\n",
            "debconf: unable to initialize frontend: Dialog\n",
            "debconf: (No usable dialog-like program is installed, so the dialog based frontend cannot be used. at /usr/share/perl5/Debconf/FrontEnd/Dialog.pm line 76, <> line 3.)\n",
            "debconf: falling back to frontend: Readline\n",
            "debconf: unable to initialize frontend: Readline\n",
            "debconf: (This frontend requires a controlling tty.)\n",
            "debconf: falling back to frontend: Teletype\n",
            "dpkg-preconfigure: unable to re-open stdin: \n",
            "Selecting previously unselected package libpostproc-dev:amd64.\n",
            "(Reading database ... 155335 files and directories currently installed.)\n",
            "Preparing to unpack .../libpostproc-dev_7%3a3.4.8-0ubuntu0.2_amd64.deb ...\n",
            "Unpacking libpostproc-dev:amd64 (7:3.4.8-0ubuntu0.2) ...\n",
            "Selecting previously unselected package libavfilter-dev:amd64.\n",
            "Preparing to unpack .../libavfilter-dev_7%3a3.4.8-0ubuntu0.2_amd64.deb ...\n",
            "Unpacking libavfilter-dev:amd64 (7:3.4.8-0ubuntu0.2) ...\n",
            "Selecting previously unselected package libavdevice-dev:amd64.\n",
            "Preparing to unpack .../libavdevice-dev_7%3a3.4.8-0ubuntu0.2_amd64.deb ...\n",
            "Unpacking libavdevice-dev:amd64 (7:3.4.8-0ubuntu0.2) ...\n",
            "Setting up libpostproc-dev:amd64 (7:3.4.8-0ubuntu0.2) ...\n",
            "Setting up libavfilter-dev:amd64 (7:3.4.8-0ubuntu0.2) ...\n",
            "Setting up libavdevice-dev:amd64 (7:3.4.8-0ubuntu0.2) ...\n",
            "Collecting av\n",
            "  Downloading av-9.0.0-cp37-cp37m-manylinux_2_17_x86_64.manylinux2014_x86_64.whl (36.6 MB)\n",
            "\u001b[K     |████████████████████████████████| 36.6 MB 405 kB/s \n",
            "\u001b[?25hInstalling collected packages: av\n",
            "Successfully installed av-9.0.0\n"
          ]
        }
      ]
    },
    {
      "cell_type": "code",
      "metadata": {
        "id": "BJEavZjGLx5c"
      },
      "source": [
        "def video_to_frame(path,out_path):\n",
        "    vidcap = cv2.VideoCapture(path)\n",
        "    success,image = vidcap.read()\n",
        "    count = 0\n",
        "    while success:\n",
        "      cv2.imwrite(os.path.join(out_path,\"{}.jpg\".format(count)), image)\n",
        "      success,image = vidcap.read()\n",
        "      count += 1"
      ],
      "execution_count": null,
      "outputs": []
    },
    {
      "cell_type": "code",
      "metadata": {
        "id": "kJ_JWODgL3Nh"
      },
      "source": [
        "def extract_frames(video_path):\n",
        "    frames = []\n",
        "    video = av.open(video_path)\n",
        "    for frame in video.decode(0):\n",
        "        yield frame.to_image()"
      ],
      "execution_count": null,
      "outputs": []
    },
    {
      "cell_type": "code",
      "source": [
        "from google.colab import drive\n",
        "drive.mount('/content/drive')"
      ],
      "metadata": {
        "colab": {
          "base_uri": "https://localhost:8080/"
        },
        "id": "xdp8zW3-jxiI",
        "outputId": "b67e4c27-1ac3-4dfa-aa12-ee2595dba7fa"
      },
      "execution_count": null,
      "outputs": [
        {
          "output_type": "stream",
          "name": "stdout",
          "text": [
            "Mounted at /content/drive\n"
          ]
        }
      ]
    },
    {
      "cell_type": "code",
      "metadata": {
        "id": "AI2b5lugL4i3",
        "colab": {
          "base_uri": "https://localhost:8080/",
          "height": 49,
          "referenced_widgets": [
            "708cc9f0f128447787557b7f390e40fa",
            "557ce95bcf0f4f0d845adfe3d46be951",
            "3370ae2c82c74e379a5d6e8a54648af5",
            "bcfdc4fd7c54464d849294e583c31d9b",
            "a66cd4327f3442d8b8a37dfa20c4a543",
            "bef08e404708480eb42a3cfd949bbb79",
            "fdd12c3c77474fec91ba143ddd26c230",
            "53a6bb033e1a4c68ac1e95842596e7cb",
            "013f65e7050d4b88a2f6c4f2dfa40b32",
            "13d52d3d9de64c6fa1cc35e9639b0241",
            "80000a84870d4760a3aeb4a2762ee1da"
          ]
        },
        "outputId": "3b1fa642-91fb-4b8e-f33d-96a3fc8cacfb"
      },
      "source": [
        "#Anomaly videos part1\n",
        "from tqdm.autonotebook import tqdm\n",
        "path = '/content/drive/MyDrive/DS'\n",
        "result = '/content/drive/MyDrive/Dataset'\n",
        "\n",
        "for i in tqdm(os.listdir(path)):\n",
        "  p1 = os.path.join(path,i)\n",
        "  r1 = os.path.join(result,i)\n",
        "  if os.path.exists(r1):\n",
        "            continue\n",
        "  os.makedirs(r1,exist_ok = True)\n",
        "  for j in os.listdir(p1):\n",
        "    vid_path = os.path.join(p1,j)\n",
        "    r2 = os.path.join(r1,j[:-4])\n",
        "    os.makedirs(r2,exist_ok = True)\n",
        "    for j, frame in enumerate((extract_frames(vid_path))):\n",
        "      frame.save(os.path.join(r2, f\"{j}.jpg\"))"
      ],
      "execution_count": null,
      "outputs": [
        {
          "output_type": "display_data",
          "data": {
            "application/vnd.jupyter.widget-view+json": {
              "model_id": "708cc9f0f128447787557b7f390e40fa",
              "version_minor": 0,
              "version_major": 2
            },
            "text/plain": [
              "  0%|          | 0/3 [00:00<?, ?it/s]"
            ]
          },
          "metadata": {}
        }
      ]
    },
    {
      "cell_type": "code",
      "metadata": {
        "id": "VfE3W105L7Ik"
      },
      "source": [
        "#Anomaly videos part2\n",
        "from tqdm.autonotebook import tqdm\n",
        "path = '/content/Anomaly_Dataset/Anomaly_Videos/Anomaly-Videos-Part-2'\n",
        "result = '/content/Dataset'\n",
        "\n",
        "for i in tqdm(os.listdir(path)):\n",
        "  p1 = os.path.join(path,i)\n",
        "  r1 = os.path.join(result,i)\n",
        "  if os.path.exists(r1):\n",
        "            continue\n",
        "  os.makedirs(r1,exist_ok = True)\n",
        "  for j in os.listdir(p1):\n",
        "    vid_path = os.path.join(p1,j)\n",
        "    r2 = os.path.join(r1,j[:-4])\n",
        "    os.makedirs(r2,exist_ok = True)\n",
        "    for j, frame in enumerate((extract_frames(vid_path))):\n",
        "      frame.save(os.path.join(r2, f\"{j}.jpg\"))"
      ],
      "execution_count": null,
      "outputs": []
    },
    {
      "cell_type": "code",
      "metadata": {
        "id": "h6agWZGsL8iL"
      },
      "source": [
        "#Normal class\n",
        "from tqdm.autonotebook import tqdm\n",
        "path = '/content/Anomaly_Dataset/Anomaly_Videos/Normal-Videos-Part-1'\n",
        "result = '/content/Dataset/normal'\n",
        "\n",
        "for i in tqdm(os.listdir(path)):\n",
        "  p1 = os.path.join(path,i)\n",
        "  r1 = os.path.join(result,i[:-4])\n",
        "  if os.path.exists(r1):\n",
        "            continue\n",
        "  os.makedirs(r1,exist_ok = True)\n",
        "  for k, frame in enumerate((extract_frames(p1))):\n",
        "    frame.save(os.path.join(r1, f\"{k}.jpg\"))"
      ],
      "execution_count": null,
      "outputs": []
    },
    {
      "cell_type": "code",
      "metadata": {
        "id": "UTtNLnTILnxq"
      },
      "source": [
        "path = '/content/Dataset'\n",
        "res = '/content/crime16'\n",
        "#Number\n",
        "seq_length = 16\n",
        "\n",
        "def preprocess_data(seq_length,path,res):\n",
        "  dir = os.listdir(path)\n",
        "  for i in tqdm(dir):\n",
        "      p1 = os.path.join(path,i)\n",
        "      r1 = os.path.join(res,i)\n",
        "      os.makedirs(r1,exist_ok = True)\n",
        "      for j in os.listdir(p1):\n",
        "          p2 = os.path.join(p1,j)\n",
        "          r2 = os.path.join(r1,j)\n",
        "          l = 0\n",
        "          skip_length = int(len(os.listdir(p2))/seq_length)\n",
        "          for m in range(10):\n",
        "              k = m\n",
        "              while(l!=seq_length):\n",
        "\n",
        "                  p3 = os.path.join(p2,str(k) + \".jpg\")\n",
        "                  try:\n",
        "                      img = cv2.imread(p3)\n",
        "                      img = cv2.resize(img,(128,128))\n",
        "                  except:\n",
        "                      print(p3)\n",
        "                  if(k==0):\n",
        "                      img1 = img\n",
        "                  else:\n",
        "                      img1 = np.append(img1,img,axis = 1)\n",
        "                  k = k+skip_length\n",
        "                  l = l+1    \n",
        "              cv2.imwrite(r2 + str(m)+\".jpg\",img1)\n",
        "        "
      ],
      "execution_count": null,
      "outputs": []
    }
  ]
}